{
  "nbformat": 4,
  "nbformat_minor": 0,
  "metadata": {
    "colab": {
      "provenance": []
    },
    "kernelspec": {
      "name": "python3",
      "display_name": "Python 3"
    },
    "language_info": {
      "name": "python"
    }
  },
  "cells": [
    {
      "cell_type": "markdown",
      "source": [
        "# **Linear Regression on Study Hours vs GPA**"
      ],
      "metadata": {
        "id": "DlFX_uEJrImo"
      }
    },
    {
      "cell_type": "markdown",
      "source": [
        "This report demonstrates how to apply linear regression to predict a student's GPA based on the number of hours they study. The process includes importing libraries, loading data, preparing inputs, training a model, and making predictions."
      ],
      "metadata": {
        "id": "DU6SPcAqrNL5"
      }
    },
    {
      "cell_type": "markdown",
      "source": [
        "# **1. Importing Required Libraries**"
      ],
      "metadata": {
        "id": "P8mb0OROrRGY"
      }
    },
    {
      "cell_type": "markdown",
      "source": [
        "We import libraries for numerical computation, data handling, and visualization."
      ],
      "metadata": {
        "id": "SWS_g5CirckB"
      }
    },
    {
      "cell_type": "code",
      "execution_count": null,
      "metadata": {
        "id": "HIi4Fc7w55tn"
      },
      "outputs": [],
      "source": [
        "# Importing libraries for numerical operations, data handling, and plotting\n",
        "import numpy as np             # For numerical operations\n",
        "import pandas as pd            # For data manipulation and analysis\n",
        "import matplotlib              # For 2D plotting and visualization\n",
        "from matplotlib import pyplot as plt  # For plotting graphs\n",
        "import seaborn as sns          # For statistical data visualization"
      ]
    },
    {
      "cell_type": "markdown",
      "source": [
        "# **2. Loading the Dataset**"
      ],
      "metadata": {
        "id": "C4vHGO1pryEG"
      }
    },
    {
      "cell_type": "markdown",
      "source": [
        "We read the dataset study-hours.csv into a pandas DataFrame."
      ],
      "metadata": {
        "id": "PQ8eezxPr0M2"
      }
    },
    {
      "cell_type": "code",
      "source": [
        "# Load data from a CSV file into a DataFrame\n",
        "df = pd.read_csv(\"datasets/study-hours.csv\")  # Read CSV file into a pandas DataFrame named df"
      ],
      "metadata": {
        "id": "lS8ik0LFr3on"
      },
      "execution_count": null,
      "outputs": []
    },
    {
      "cell_type": "markdown",
      "source": [
        "# **3. Extracting Input and Output Data**"
      ],
      "metadata": {
        "id": "aZYQ8uytcGxK"
      }
    },
    {
      "cell_type": "markdown",
      "source": [
        "We extract the study hours and GPA as NumPy arrays for processing."
      ],
      "metadata": {
        "id": "pviRTL8pcInz"
      }
    },
    {
      "cell_type": "code",
      "source": [
        "# Extract 'study_hours' and 'gpa' columns as NumPy arrays\n",
        "sh = np.array(df['study_hours'])  # Convert 'study_hours' column to NumPy array\n",
        "y = np.array(df['gpa'])           # Convert 'gpa' column to NumPy array"
      ],
      "metadata": {
        "id": "GJxvo68wcLZ_"
      },
      "execution_count": null,
      "outputs": []
    },
    {
      "cell_type": "markdown",
      "source": [
        "# **4. Reshaping the Input Feature**"
      ],
      "metadata": {
        "id": "iGI2s-TwcNO2"
      }
    },
    {
      "cell_type": "markdown",
      "source": [
        "The input sh is reshaped into a 2D array suitable for model input."
      ],
      "metadata": {
        "id": "Eg_9R1HncRwe"
      }
    },
    {
      "cell_type": "code",
      "source": [
        "# Reshape 'sh' array to a 2D column vector\n",
        "sh = sh.reshape(sh.size, 1)  # Change shape from (n,) to (n,1) for model input"
      ],
      "metadata": {
        "id": "s3cks3zBcVlz"
      },
      "execution_count": null,
      "outputs": []
    },
    {
      "cell_type": "markdown",
      "source": [
        "# **5. Creating the Design Matrix**"
      ],
      "metadata": {
        "id": "rf6kppbKcXKi"
      }
    },
    {
      "cell_type": "markdown",
      "source": [
        "We add a column of ones to include the bias term in the regression equation."
      ],
      "metadata": {
        "id": "2yfZbpgCcaLL"
      }
    },
    {
      "cell_type": "code",
      "source": [
        "# Add a column of ones to 'sh' for the bias term in linear regression\n",
        "Z = np.hstack((np.ones((sh.size,1)), sh))  # Horizontally stack ones with 'sh' to form design matrix"
      ],
      "metadata": {
        "id": "H4Kbuz8Lcemr"
      },
      "execution_count": null,
      "outputs": []
    },
    {
      "cell_type": "markdown",
      "source": [
        "# **6. Solving for Parameters Using the Normal Equation**"
      ],
      "metadata": {
        "id": "zkJRowXGclLP"
      }
    },
    {
      "cell_type": "markdown",
      "source": [
        "We compute the optimal coefficients using the closed-form solution."
      ],
      "metadata": {
        "id": "sEyC1os5cpXy"
      }
    },
    {
      "cell_type": "code",
      "source": [
        "# Compute regression coefficients using the Normal Equation\n",
        "X = Z  # Assign design matrix to X for clarity\n",
        "beta = np.linalg.inv(X.T @ X) @ X.T @ y  # beta = (XᵀX)⁻¹Xᵀy, gives best-fit line parameters\n",
        "\n",
        "# Alternative: use pseudoinverse for stability\n",
        "# beta = np.linalg.pinv(X) @ y  # More stable way to compute beta when XᵀX is not invertible"
      ],
      "metadata": {
        "id": "sPUfu289csW-"
      },
      "execution_count": null,
      "outputs": []
    },
    {
      "cell_type": "markdown",
      "source": [
        "# **7. Fitting a Linear Regression Model with Scikit-learn**"
      ],
      "metadata": {
        "id": "4HodjRvucug5"
      }
    },
    {
      "cell_type": "markdown",
      "source": [
        "We train the model using LinearRegression from scikit-learn and extract learned parameters."
      ],
      "metadata": {
        "id": "fL1PJxeNcyK0"
      }
    },
    {
      "cell_type": "code",
      "source": [
        "# Train a linear regression model and print the intercept and slope\n",
        "from sklearn.linear_model import LinearRegression        # Import LinearRegression class\n",
        "model = LinearRegression()                               # Create a LinearRegression model object\n",
        "model.fit(sh, y)                                          # Fit the model to input features 'sh' and target 'y'\n",
        "print(\"Y-intercept (𝛽0): \", model.intercept_)            # Print the learned intercept (𝛽₀)\n",
        "print(\"Slope (𝛽1): \", model.coef_)                       # Print the learned slope (𝛽₁)"
      ],
      "metadata": {
        "id": "ZM6KeBAcc0Gd"
      },
      "execution_count": null,
      "outputs": []
    },
    {
      "cell_type": "markdown",
      "source": [
        "# **8. Making a Prediction**"
      ],
      "metadata": {
        "id": "3UsZ9ctHc2MN"
      }
    },
    {
      "cell_type": "markdown",
      "source": [
        "We use the manually computed parameters to predict GPA for a new value of study hours."
      ],
      "metadata": {
        "id": "YIGvwiJsc5X7"
      }
    },
    {
      "cell_type": "code",
      "source": [
        "# Predict GPA for 5.0 study hours using the regression equation\n",
        "studyhours = 5.0                                               # Set new input value for study hours\n",
        "predicted_gpa = beta[0] + beta[1] * studyhours                 # Compute predicted GPA using beta coefficients\n",
        "print(\"Predicted GPA value for new study hours: {:.4f}\".format(predicted_gpa))  # Print predicted GPA rounded to 4 decimals"
      ],
      "metadata": {
        "id": "fMJD5gvec9Eu"
      },
      "execution_count": null,
      "outputs": []
    }
  ]
}